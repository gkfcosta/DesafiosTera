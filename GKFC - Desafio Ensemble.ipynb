{
 "cells": [
  {
   "cell_type": "markdown",
   "id": "3ac252e2-70a9-423f-88c0-8f6ee9617b80",
   "metadata": {},
   "source": [
    "# Desafio de Ensemble"
   ]
  },
  {
   "cell_type": "markdown",
   "id": "0240198b-3e17-4a1f-9469-af54663d173c",
   "metadata": {},
   "source": [
    "Nesse desafio, construído em uma parceria da Tera e o Luizalabs, o objetivo principal será construir algumas soluções baseadas em machine learning para prever se um dado cliente do e-commerce do Magalu continuará comprando na plataforma em 2020 usando algumas características próprias do cliente e seu histórico de compras no ano anterior. No final, algumas dessas soluções devem ser combinadas em um ensemble para criar uma solução única com o objetivo de alavancar ainda mais os resultados.\n",
    "\n",
    "Para que o objetivo principal seja cumprido, será necessário construir uma forma de visualização das soluções criadas e a comparação com o modelo baseline e com o modelo de ensemble criados no processo. O formato sugerido é um tabela de resultados contendo as métricas de sucesso de cada modelo criado.\n",
    "\n",
    "O objetivo secundário é o levantamento de hipóteses e insights que surgirem durante as experimentações. É interessante fazer isso desde o início como parte da análise exploratória, documentando qualquer indício de informação nova sobre o problema. Também é uma boa prática avaliar os modelos treinados, seja através da exploração de seus parâmetros (por exemplo, os pesos de um modelo linear) ou usando técnicas avançadas como o SHAP."
   ]
  },
  {
   "cell_type": "code",
   "execution_count": 95,
   "id": "4eecefe2-b915-463f-a81b-0eb0cde5e6f4",
   "metadata": {},
   "outputs": [
    {
     "ename": "ModuleNotFoundError",
     "evalue": "No module named 'mlxtend'",
     "output_type": "error",
     "traceback": [
      "\u001b[1;31m---------------------------------------------------------------------------\u001b[0m",
      "\u001b[1;31mModuleNotFoundError\u001b[0m                       Traceback (most recent call last)",
      "\u001b[1;32mC:\\Users\\GUILHE~1\\AppData\\Local\\Temp/ipykernel_37452/3345235095.py\u001b[0m in \u001b[0;36m<module>\u001b[1;34m\u001b[0m\n\u001b[0;32m     12\u001b[0m \u001b[1;32mfrom\u001b[0m \u001b[0msklearn\u001b[0m\u001b[1;33m.\u001b[0m\u001b[0mlinear_model\u001b[0m \u001b[1;32mimport\u001b[0m \u001b[0mLogisticRegression\u001b[0m\u001b[1;33m\u001b[0m\u001b[1;33m\u001b[0m\u001b[0m\n\u001b[0;32m     13\u001b[0m \u001b[1;32mfrom\u001b[0m \u001b[0msklearn\u001b[0m \u001b[1;32mimport\u001b[0m \u001b[0mmetrics\u001b[0m\u001b[1;33m\u001b[0m\u001b[1;33m\u001b[0m\u001b[0m\n\u001b[1;32m---> 14\u001b[1;33m \u001b[1;32mfrom\u001b[0m \u001b[0mmlxtend\u001b[0m\u001b[1;33m.\u001b[0m\u001b[0mclassifier\u001b[0m \u001b[1;32mimport\u001b[0m \u001b[0mStackingClassifier\u001b[0m\u001b[1;33m\u001b[0m\u001b[1;33m\u001b[0m\u001b[0m\n\u001b[0m\u001b[0;32m     15\u001b[0m \u001b[1;33m\u001b[0m\u001b[0m\n\u001b[0;32m     16\u001b[0m \u001b[1;31m#others\u001b[0m\u001b[1;33m\u001b[0m\u001b[1;33m\u001b[0m\u001b[1;33m\u001b[0m\u001b[0m\n",
      "\u001b[1;31mModuleNotFoundError\u001b[0m: No module named 'mlxtend'"
     ]
    }
   ],
   "source": [
    "#Importando bibliotecas\n",
    "import pandas as pd\n",
    "import seaborn as sns\n",
    "import matplotlib.pyplot as plt\n",
    "import numpy as np\n",
    "\n",
    "# Modelling libs\n",
    "from sklearn.ensemble import RandomForestClassifier\n",
    "from sklearn.impute import SimpleImputer\n",
    "from sklearn.preprocessing import OneHotEncoder, OrdinalEncoder\n",
    "from sklearn.model_selection import train_test_split\n",
    "from sklearn.linear_model import LogisticRegression\n",
    "from sklearn import metrics\n",
    "from sklearn.ensemble import StackingClassifier\n",
    "\n",
    "#others\n",
    "from collections.abc import Sequence"
   ]
  },
  {
   "cell_type": "code",
   "execution_count": 84,
   "id": "e41da1e5-d2c2-4a92-93f9-96c66a19dfb6",
   "metadata": {},
   "outputs": [],
   "source": [
    "#Funções\n",
    "\n",
    "def classifier_evaluation(y_true, y_pred, betas=1):\n",
    "    \"\"\" Calcula as métricas de avaliação de um classificador para alimentar a Tabela de Resultados\n",
    "\n",
    "    Parameters\n",
    "    ----------\n",
    "\n",
    "    y_true: Series\n",
    "        Saída esperada (targets).\n",
    "\n",
    "    y_pred: Series\n",
    "        Saída categórica estimada pelo modelo.\n",
    "\n",
    "    betas: float or Sequence (default=1)\n",
    "        Número ou seqência de números representando os Betas das métricas de FBetaScore desejadas.\n",
    "\n",
    "    Return\n",
    "    ------\n",
    "    Series\n",
    "        Lista de parâmetros de métricas no formato de Series do pandas\n",
    "\n",
    "    \"\"\"\n",
    "    if not isinstance(betas, Sequence):\n",
    "        betas = [betas]\n",
    "    tn, fp, fn, tp = metrics.confusion_matrix(y_true, y_pred).ravel()\n",
    "    accuracy = (tn + tp) / (tn + fp + fn + tp)\n",
    "    precision = tp / (fp + tp)\n",
    "    recall = tp / (fn + tp)\n",
    "    return pd.Series({\n",
    "        'tn': tn,\n",
    "        'fp': fp,\n",
    "        'fn': fn,\n",
    "        'tp': tp,\n",
    "        'accuracy': accuracy,\n",
    "        'precision': precision,\n",
    "        'recall': recall,\n",
    "        **{\n",
    "            f'f{b}_score': (1 + b ** 2) * precision * recall / (((b ** 2) * precision) + recall)\n",
    "            for b in betas\n",
    "        }\n",
    "    })\n",
    "def results_table(entry_name, existing_table=None, **kwargs):\n",
    "    \"\"\" Calcula as métricas de avaliação de um classificador para alimentar a Tabela de Resultados\n",
    "\n",
    "    Parameters\n",
    "    ----------\n",
    "\n",
    "    entry_name: string\n",
    "        Nome da nova entrada da tabela; caso já exista, atualiza os valores.\n",
    "\n",
    "    existing_table: DataFrame or None (default=None)\n",
    "        Tabela previamente existente, para atualização. Se for None, cria uma tabela.\n",
    "\n",
    "    **kwargs\n",
    "        Parâmetros de `classifier_evaluation`\n",
    "\n",
    "    Return\n",
    "    ------\n",
    "    DataFrame\n",
    "        Tabela de resultados atualizada\n",
    "\n",
    "    \"\"\"\n",
    "    metrics = pd.DataFrame({entry_name: classifier_evaluation(**kwargs)}).T\n",
    "    metrics.index.name = 'modelos'\n",
    "    if existing_table is None:\n",
    "        return metrics\n",
    "    elif entry_name in existing_table.index:\n",
    "        existing_table.loc[entry_name, :] = metrics\n",
    "        return existing_table\n",
    "    return existing_table.append(metrics)"
   ]
  },
  {
   "cell_type": "markdown",
   "id": "a90dfb5e-55ce-41f6-adf9-8c059135bc39",
   "metadata": {},
   "source": [
    "## Importando os dados"
   ]
  },
  {
   "cell_type": "code",
   "execution_count": 60,
   "id": "d47aefc3-dfaf-42ab-baaa-50194b9b9f9e",
   "metadata": {},
   "outputs": [],
   "source": [
    "#Datasets de treino\n",
    "orders = pd.read_csv(\"orders.csv\")\n",
    "product = pd.read_csv(\"product.csv\")\n",
    "clients = pd.read_csv('client.train.csv')\n",
    "\n",
    "#Dataset de teste\n",
    "clients_test = pd.read_csv(\"client.test.csv\")"
   ]
  },
  {
   "cell_type": "code",
   "execution_count": 61,
   "id": "6f1a0860-4aef-43b7-ac36-936841b85b21",
   "metadata": {},
   "outputs": [
    {
     "name": "stdout",
     "output_type": "stream",
     "text": [
      "Index(['order_id', 'client_id', 'product_id', 'datetime', 'units', 'price',\n",
      "       'payment_method', 'installments', 'delivery_days', 'delivery_state',\n",
      "       'device', 'source'],\n",
      "      dtype='object')\n",
      "Index(['product_id', 'category_lv0', 'category_lv1', 'category_lv2',\n",
      "       'category_lv3', 'category_lv4'],\n",
      "      dtype='object')\n",
      "Index(['client_id', 'birthdate', 'state', 'gender', 'is_churn'], dtype='object')\n"
     ]
    }
   ],
   "source": [
    "#Analisando as colunas\n",
    "print(orders.columns)\n",
    "print(product.columns)\n",
    "print(clients.columns)"
   ]
  },
  {
   "cell_type": "code",
   "execution_count": 62,
   "id": "80259a91-4e79-45e9-af6f-a50e74a53d5a",
   "metadata": {},
   "outputs": [
    {
     "data": {
      "text/html": [
       "<div>\n",
       "<style scoped>\n",
       "    .dataframe tbody tr th:only-of-type {\n",
       "        vertical-align: middle;\n",
       "    }\n",
       "\n",
       "    .dataframe tbody tr th {\n",
       "        vertical-align: top;\n",
       "    }\n",
       "\n",
       "    .dataframe thead th {\n",
       "        text-align: right;\n",
       "    }\n",
       "</style>\n",
       "<table border=\"1\" class=\"dataframe\">\n",
       "  <thead>\n",
       "    <tr style=\"text-align: right;\">\n",
       "      <th></th>\n",
       "      <th>product_id</th>\n",
       "      <th>category_lv0</th>\n",
       "      <th>category_lv1</th>\n",
       "      <th>category_lv2</th>\n",
       "      <th>category_lv3</th>\n",
       "      <th>category_lv4</th>\n",
       "    </tr>\n",
       "  </thead>\n",
       "  <tbody>\n",
       "    <tr>\n",
       "      <th>0</th>\n",
       "      <td>px01237</td>\n",
       "      <td>mk38</td>\n",
       "      <td>mk38:072</td>\n",
       "      <td>mk38:072:149</td>\n",
       "      <td>mk38:072:149:218</td>\n",
       "      <td>mk38:072:149:218:04846</td>\n",
       "    </tr>\n",
       "    <tr>\n",
       "      <th>1</th>\n",
       "      <td>px11510</td>\n",
       "      <td>mk38</td>\n",
       "      <td>mk38:072</td>\n",
       "      <td>mk38:072:149</td>\n",
       "      <td>mk38:072:149:218</td>\n",
       "      <td>mk38:072:149:218:01337</td>\n",
       "    </tr>\n",
       "    <tr>\n",
       "      <th>2</th>\n",
       "      <td>px03782</td>\n",
       "      <td>mk38</td>\n",
       "      <td>mk38:072</td>\n",
       "      <td>mk38:072:019</td>\n",
       "      <td>mk38:072:019:066</td>\n",
       "      <td>mk38:072:019:066:02321</td>\n",
       "    </tr>\n",
       "    <tr>\n",
       "      <th>3</th>\n",
       "      <td>px04092</td>\n",
       "      <td>mk38</td>\n",
       "      <td>mk38:072</td>\n",
       "      <td>mk38:072:019</td>\n",
       "      <td>mk38:072:019:054</td>\n",
       "      <td>mk38:072:019:054:06035</td>\n",
       "    </tr>\n",
       "    <tr>\n",
       "      <th>4</th>\n",
       "      <td>px07429</td>\n",
       "      <td>mk38</td>\n",
       "      <td>mk38:072</td>\n",
       "      <td>mk38:072:078</td>\n",
       "      <td>mk38:072:078:182</td>\n",
       "      <td>mk38:072:078:182:07218</td>\n",
       "    </tr>\n",
       "    <tr>\n",
       "      <th>...</th>\n",
       "      <td>...</td>\n",
       "      <td>...</td>\n",
       "      <td>...</td>\n",
       "      <td>...</td>\n",
       "      <td>...</td>\n",
       "      <td>...</td>\n",
       "    </tr>\n",
       "    <tr>\n",
       "      <th>12654</th>\n",
       "      <td>px11965</td>\n",
       "      <td>mk35</td>\n",
       "      <td>mk35:072</td>\n",
       "      <td>mk35:072:122</td>\n",
       "      <td>mk35:072:122:182</td>\n",
       "      <td>mk35:072:122:182:00392</td>\n",
       "    </tr>\n",
       "    <tr>\n",
       "      <th>12655</th>\n",
       "      <td>px05192</td>\n",
       "      <td>mk35</td>\n",
       "      <td>mk35:072</td>\n",
       "      <td>mk35:072:122</td>\n",
       "      <td>mk35:072:122:182</td>\n",
       "      <td>mk35:072:122:182:02028</td>\n",
       "    </tr>\n",
       "    <tr>\n",
       "      <th>12656</th>\n",
       "      <td>px05391</td>\n",
       "      <td>mk38</td>\n",
       "      <td>mk38:107</td>\n",
       "      <td>mk38:107:357</td>\n",
       "      <td>mk38:107:357:182</td>\n",
       "      <td>mk38:107:357:182:08006</td>\n",
       "    </tr>\n",
       "    <tr>\n",
       "      <th>12657</th>\n",
       "      <td>px00861</td>\n",
       "      <td>mk35</td>\n",
       "      <td>mk35:072</td>\n",
       "      <td>mk35:072:177</td>\n",
       "      <td>mk35:072:177:182</td>\n",
       "      <td>mk35:072:177:182:03018</td>\n",
       "    </tr>\n",
       "    <tr>\n",
       "      <th>12658</th>\n",
       "      <td>px07271</td>\n",
       "      <td>mk05</td>\n",
       "      <td>mk05:072</td>\n",
       "      <td>mk05:072:177</td>\n",
       "      <td>mk05:072:177:182</td>\n",
       "      <td>mk05:072:177:182:04256</td>\n",
       "    </tr>\n",
       "  </tbody>\n",
       "</table>\n",
       "<p>12659 rows × 6 columns</p>\n",
       "</div>"
      ],
      "text/plain": [
       "      product_id category_lv0 category_lv1  category_lv2      category_lv3  \\\n",
       "0        px01237         mk38     mk38:072  mk38:072:149  mk38:072:149:218   \n",
       "1        px11510         mk38     mk38:072  mk38:072:149  mk38:072:149:218   \n",
       "2        px03782         mk38     mk38:072  mk38:072:019  mk38:072:019:066   \n",
       "3        px04092         mk38     mk38:072  mk38:072:019  mk38:072:019:054   \n",
       "4        px07429         mk38     mk38:072  mk38:072:078  mk38:072:078:182   \n",
       "...          ...          ...          ...           ...               ...   \n",
       "12654    px11965         mk35     mk35:072  mk35:072:122  mk35:072:122:182   \n",
       "12655    px05192         mk35     mk35:072  mk35:072:122  mk35:072:122:182   \n",
       "12656    px05391         mk38     mk38:107  mk38:107:357  mk38:107:357:182   \n",
       "12657    px00861         mk35     mk35:072  mk35:072:177  mk35:072:177:182   \n",
       "12658    px07271         mk05     mk05:072  mk05:072:177  mk05:072:177:182   \n",
       "\n",
       "                 category_lv4  \n",
       "0      mk38:072:149:218:04846  \n",
       "1      mk38:072:149:218:01337  \n",
       "2      mk38:072:019:066:02321  \n",
       "3      mk38:072:019:054:06035  \n",
       "4      mk38:072:078:182:07218  \n",
       "...                       ...  \n",
       "12654  mk35:072:122:182:00392  \n",
       "12655  mk35:072:122:182:02028  \n",
       "12656  mk38:107:357:182:08006  \n",
       "12657  mk35:072:177:182:03018  \n",
       "12658  mk05:072:177:182:04256  \n",
       "\n",
       "[12659 rows x 6 columns]"
      ]
     },
     "execution_count": 62,
     "metadata": {},
     "output_type": "execute_result"
    }
   ],
   "source": [
    "#Removendo clientes e produtos repetidos\n",
    "clients.drop_duplicates()\n",
    "product.drop_duplicates()"
   ]
  },
  {
   "cell_type": "code",
   "execution_count": 63,
   "id": "2b0caf2f-24d2-4f03-8ca1-79046ed87b01",
   "metadata": {},
   "outputs": [
    {
     "data": {
      "text/html": [
       "<div>\n",
       "<style scoped>\n",
       "    .dataframe tbody tr th:only-of-type {\n",
       "        vertical-align: middle;\n",
       "    }\n",
       "\n",
       "    .dataframe tbody tr th {\n",
       "        vertical-align: top;\n",
       "    }\n",
       "\n",
       "    .dataframe thead th {\n",
       "        text-align: right;\n",
       "    }\n",
       "</style>\n",
       "<table border=\"1\" class=\"dataframe\">\n",
       "  <thead>\n",
       "    <tr style=\"text-align: right;\">\n",
       "      <th></th>\n",
       "      <th>order_id</th>\n",
       "      <th>client_id</th>\n",
       "      <th>product_id</th>\n",
       "      <th>datetime</th>\n",
       "      <th>units</th>\n",
       "      <th>price</th>\n",
       "      <th>payment_method</th>\n",
       "      <th>installments</th>\n",
       "      <th>delivery_days</th>\n",
       "      <th>delivery_state</th>\n",
       "      <th>device</th>\n",
       "      <th>source</th>\n",
       "      <th>category_lv0</th>\n",
       "      <th>category_lv1</th>\n",
       "      <th>category_lv2</th>\n",
       "      <th>category_lv3</th>\n",
       "      <th>category_lv4</th>\n",
       "    </tr>\n",
       "  </thead>\n",
       "  <tbody>\n",
       "    <tr>\n",
       "      <th>0</th>\n",
       "      <td>ox008433</td>\n",
       "      <td>cx05072</td>\n",
       "      <td>px04611</td>\n",
       "      <td>2019-10-07 15:20:00</td>\n",
       "      <td>1.0</td>\n",
       "      <td>49.9</td>\n",
       "      <td>pm05</td>\n",
       "      <td>NaN</td>\n",
       "      <td>NaN</td>\n",
       "      <td>st07</td>\n",
       "      <td>dv9</td>\n",
       "      <td>sc08</td>\n",
       "      <td>mk04</td>\n",
       "      <td>mk04:128</td>\n",
       "      <td>mk04:128:103</td>\n",
       "      <td>mk04:128:103:103</td>\n",
       "      <td>mk04:128:103:103:03294</td>\n",
       "    </tr>\n",
       "    <tr>\n",
       "      <th>1</th>\n",
       "      <td>ox070389</td>\n",
       "      <td>cx05072</td>\n",
       "      <td>px12305</td>\n",
       "      <td>2019-10-11 17:42:00</td>\n",
       "      <td>1.0</td>\n",
       "      <td>69.9</td>\n",
       "      <td>pm05</td>\n",
       "      <td>NaN</td>\n",
       "      <td>NaN</td>\n",
       "      <td>st07</td>\n",
       "      <td>dv9</td>\n",
       "      <td>sc08</td>\n",
       "      <td>mk04</td>\n",
       "      <td>mk04:292</td>\n",
       "      <td>mk04:292:246</td>\n",
       "      <td>mk04:292:246:103</td>\n",
       "      <td>mk04:292:246:103:04338</td>\n",
       "    </tr>\n",
       "    <tr>\n",
       "      <th>2</th>\n",
       "      <td>ox061137</td>\n",
       "      <td>cx06840</td>\n",
       "      <td>px07033</td>\n",
       "      <td>2019-01-19 13:09:00</td>\n",
       "      <td>1.0</td>\n",
       "      <td>35.9</td>\n",
       "      <td>pm05</td>\n",
       "      <td>NaN</td>\n",
       "      <td>NaN</td>\n",
       "      <td>st07</td>\n",
       "      <td>dv9</td>\n",
       "      <td>sc08</td>\n",
       "      <td>mk05</td>\n",
       "      <td>mk05:072</td>\n",
       "      <td>mk05:072:256</td>\n",
       "      <td>mk05:072:256:182</td>\n",
       "      <td>mk05:072:256:182:09643</td>\n",
       "    </tr>\n",
       "    <tr>\n",
       "      <th>3</th>\n",
       "      <td>ox061137</td>\n",
       "      <td>cx06840</td>\n",
       "      <td>px05992</td>\n",
       "      <td>2019-01-19 13:09:00</td>\n",
       "      <td>3.0</td>\n",
       "      <td>35.9</td>\n",
       "      <td>pm05</td>\n",
       "      <td>NaN</td>\n",
       "      <td>NaN</td>\n",
       "      <td>st07</td>\n",
       "      <td>dv9</td>\n",
       "      <td>sc08</td>\n",
       "      <td>mk05</td>\n",
       "      <td>mk05:072</td>\n",
       "      <td>mk05:072:056</td>\n",
       "      <td>mk05:072:056:182</td>\n",
       "      <td>mk05:072:056:182:07587</td>\n",
       "    </tr>\n",
       "    <tr>\n",
       "      <th>4</th>\n",
       "      <td>ox038612</td>\n",
       "      <td>cx06840</td>\n",
       "      <td>px10040</td>\n",
       "      <td>2019-04-18 14:36:00</td>\n",
       "      <td>1.0</td>\n",
       "      <td>39.0</td>\n",
       "      <td>pm05</td>\n",
       "      <td>NaN</td>\n",
       "      <td>NaN</td>\n",
       "      <td>st07</td>\n",
       "      <td>dv9</td>\n",
       "      <td>sc08</td>\n",
       "      <td>mk17</td>\n",
       "      <td>mk17:251</td>\n",
       "      <td>mk17:251:555</td>\n",
       "      <td>mk17:251:555:070</td>\n",
       "      <td>mk17:251:555:070:01336</td>\n",
       "    </tr>\n",
       "  </tbody>\n",
       "</table>\n",
       "</div>"
      ],
      "text/plain": [
       "   order_id client_id product_id             datetime  units  price  \\\n",
       "0  ox008433   cx05072    px04611  2019-10-07 15:20:00    1.0   49.9   \n",
       "1  ox070389   cx05072    px12305  2019-10-11 17:42:00    1.0   69.9   \n",
       "2  ox061137   cx06840    px07033  2019-01-19 13:09:00    1.0   35.9   \n",
       "3  ox061137   cx06840    px05992  2019-01-19 13:09:00    3.0   35.9   \n",
       "4  ox038612   cx06840    px10040  2019-04-18 14:36:00    1.0   39.0   \n",
       "\n",
       "  payment_method  installments  delivery_days delivery_state device source  \\\n",
       "0           pm05           NaN            NaN           st07    dv9   sc08   \n",
       "1           pm05           NaN            NaN           st07    dv9   sc08   \n",
       "2           pm05           NaN            NaN           st07    dv9   sc08   \n",
       "3           pm05           NaN            NaN           st07    dv9   sc08   \n",
       "4           pm05           NaN            NaN           st07    dv9   sc08   \n",
       "\n",
       "  category_lv0 category_lv1  category_lv2      category_lv3  \\\n",
       "0         mk04     mk04:128  mk04:128:103  mk04:128:103:103   \n",
       "1         mk04     mk04:292  mk04:292:246  mk04:292:246:103   \n",
       "2         mk05     mk05:072  mk05:072:256  mk05:072:256:182   \n",
       "3         mk05     mk05:072  mk05:072:056  mk05:072:056:182   \n",
       "4         mk17     mk17:251  mk17:251:555  mk17:251:555:070   \n",
       "\n",
       "             category_lv4  \n",
       "0  mk04:128:103:103:03294  \n",
       "1  mk04:292:246:103:04338  \n",
       "2  mk05:072:256:182:09643  \n",
       "3  mk05:072:056:182:07587  \n",
       "4  mk17:251:555:070:01336  "
      ]
     },
     "execution_count": 63,
     "metadata": {},
     "output_type": "execute_result"
    }
   ],
   "source": [
    "#Juntando produtos e orders\n",
    "product_orders = orders.merge(product, on = 'product_id', how = 'left')\n",
    "product_orders.head()"
   ]
  },
  {
   "cell_type": "code",
   "execution_count": 64,
   "id": "3a81b71e-8a6b-44bc-9e60-61742f502b23",
   "metadata": {},
   "outputs": [
    {
     "name": "stdout",
     "output_type": "stream",
     "text": [
      "<class 'pandas.core.frame.DataFrame'>\n",
      "Int64Index: 168472 entries, 0 to 168471\n",
      "Data columns (total 21 columns):\n",
      " #   Column          Non-Null Count   Dtype  \n",
      "---  ------          --------------   -----  \n",
      " 0   order_id        168472 non-null  object \n",
      " 1   client_id       168472 non-null  object \n",
      " 2   product_id      168472 non-null  object \n",
      " 3   datetime        168472 non-null  object \n",
      " 4   units           168472 non-null  float64\n",
      " 5   price           168472 non-null  float64\n",
      " 6   payment_method  168472 non-null  object \n",
      " 7   installments    36545 non-null   float64\n",
      " 8   delivery_days   89642 non-null   float64\n",
      " 9   delivery_state  168472 non-null  object \n",
      " 10  device          168472 non-null  object \n",
      " 11  source          168472 non-null  object \n",
      " 12  category_lv0    168472 non-null  object \n",
      " 13  category_lv1    168472 non-null  object \n",
      " 14  category_lv2    168472 non-null  object \n",
      " 15  category_lv3    168472 non-null  object \n",
      " 16  category_lv4    168472 non-null  object \n",
      " 17  birthdate       101005 non-null  object \n",
      " 18  state           101005 non-null  object \n",
      " 19  gender          101005 non-null  object \n",
      " 20  is_churn        101005 non-null  object \n",
      "dtypes: float64(4), object(17)\n",
      "memory usage: 28.3+ MB\n"
     ]
    }
   ],
   "source": [
    "#Juntando product_orders e clients\n",
    "df = product_orders.merge(clients, on = 'client_id', how = 'left')\n",
    "df.info()"
   ]
  },
  {
   "cell_type": "code",
   "execution_count": 65,
   "id": "7e71f754-ff8e-4f3f-beb1-202febffa765",
   "metadata": {},
   "outputs": [
    {
     "data": {
      "text/plain": [
       "0        2019-10-07 15:20:00\n",
       "1        2019-10-11 17:42:00\n",
       "2        2019-01-19 13:09:00\n",
       "3        2019-01-19 13:09:00\n",
       "4        2019-04-18 14:36:00\n",
       "                 ...        \n",
       "168467   2019-06-25 11:50:00\n",
       "168468   2019-06-25 11:50:00\n",
       "168469   2019-09-06 11:45:00\n",
       "168470   2019-09-07 04:39:00\n",
       "168471   2019-11-19 07:53:00\n",
       "Name: datetime, Length: 168472, dtype: datetime64[ns]"
      ]
     },
     "execution_count": 65,
     "metadata": {},
     "output_type": "execute_result"
    }
   ],
   "source": [
    "df['datetime'] = pd.to_datetime(df['datetime'])\n",
    "df['datetime']"
   ]
  },
  {
   "cell_type": "code",
   "execution_count": 66,
   "id": "94d6b26b-dfec-431a-8d4e-12bc3af0db64",
   "metadata": {},
   "outputs": [],
   "source": [
    "df['birth_year'] = pd. DatetimeIndex(df['birthdate']). year\n",
    "clients['birth_year'] = pd.DatetimeIndex(clients['birthdate']).year"
   ]
  },
  {
   "cell_type": "markdown",
   "id": "1ebec3ad-ac11-40d8-8d36-e72e0fb8bfb6",
   "metadata": {},
   "source": [
    "## EDA"
   ]
  },
  {
   "cell_type": "markdown",
   "id": "f0578737-cbb2-4434-ab3d-632809914695",
   "metadata": {},
   "source": [
    "Analisando o perfil do cliente"
   ]
  },
  {
   "cell_type": "code",
   "execution_count": 67,
   "id": "b7750edf-d11a-4c1c-b232-243934222601",
   "metadata": {},
   "outputs": [],
   "source": [
    "def agrupar(coluna, alvo):\n",
    "    data = df.groupby(coluna)[alvo].mean().reset_index()\n",
    "    return data"
   ]
  },
  {
   "cell_type": "code",
   "execution_count": 68,
   "id": "f2f1f627-9f3c-405d-a4e7-a17c41a9da14",
   "metadata": {},
   "outputs": [
    {
     "data": {
      "text/plain": [
       "['state', 'gender', 'birth_year']"
      ]
     },
     "execution_count": 68,
     "metadata": {},
     "output_type": "execute_result"
    }
   ],
   "source": [
    "carac_cliente = list(clients.columns.to_list())\n",
    "carac_cliente = [i for i in carac_cliente if i not in ['birthdate', 'is_churn', 'client_id']]\n",
    "carac_cliente"
   ]
  },
  {
   "cell_type": "markdown",
   "id": "e3f64966-e0c1-4b5f-9df7-ea64ecf99872",
   "metadata": {},
   "source": [
    "Clientes do estado 20, do gênero 2, muito idosos ou muito jovens tem mais churn"
   ]
  },
  {
   "cell_type": "code",
   "execution_count": 69,
   "id": "8f2a8786-a7ff-426d-80b6-63116244bb4f",
   "metadata": {},
   "outputs": [
    {
     "data": {
      "image/png": "[encoded data removed]",
      "text/plain": [
       "<Figure size 1440x216 with 1 Axes>"
      ]
     },
     "metadata": {
      "needs_background": "light"
     },
     "output_type": "display_data"
    },
    {
     "data": {
      "image/png": "[encoded data removed]",
      "text/plain": [
       "<Figure size 1440x216 with 1 Axes>"
      ]
     },
     "metadata": {
      "needs_background": "light"
     },
     "output_type": "display_data"
    }
   ],
   "source": [
    "plt.rcParams[\"figure.figsize\"] = (20,3)\n",
    "for i in ['state', 'gender']:\n",
    "    sns.barplot(data = clients.groupby(i)['is_churn'].mean().reset_index(), x = i, y = 'is_churn')\n",
    "    plt.show()"
   ]
  },
  {
   "cell_type": "code",
   "execution_count": 70,
   "id": "2750dbbe-d75d-4217-a2c8-d9238f6cfa1c",
   "metadata": {},
   "outputs": [
    {
     "data": {
      "image/png": "[encoded data removed]",
      "text/plain": [
       "<Figure size 1440x216 with 1 Axes>"
      ]
     },
     "metadata": {
      "needs_background": "light"
     },
     "output_type": "display_data"
    }
   ],
   "source": [
    "sns.lineplot(data = clients.groupby('birth_year')['is_churn'].mean().reset_index(), x = 'birth_year', y = 'is_churn')\n",
    "plt.show()"
   ]
  },
  {
   "cell_type": "markdown",
   "id": "9f1695fa-7438-4313-acfb-2010ab1ddf08",
   "metadata": {},
   "source": [
    "Análise de volume x Churn. Clientes com churn parecem ter comprado mais do que os não churn!"
   ]
  },
  {
   "cell_type": "code",
   "execution_count": 71,
   "id": "ddb52d30-2f15-49cc-9748-d8491f413381",
   "metadata": {},
   "outputs": [
    {
     "data": {
      "text/plain": [
       "<seaborn.axisgrid.FacetGrid at 0x19a5335a3d0>"
      ]
     },
     "execution_count": 71,
     "metadata": {},
     "output_type": "execute_result"
    },
    {
     "data": {
      "image/png": "[encoded data removed]",
      "text/plain": [
       "<Figure size 360x360 with 1 Axes>"
      ]
     },
     "metadata": {
      "needs_background": "light"
     },
     "output_type": "display_data"
    }
   ],
   "source": [
    "data = df.groupby('client_id')[['is_churn', 'units']].agg({'is_churn':'mean', 'units' : 'sum'}).reset_index()\n",
    "sns.catplot(data = data, x = 'is_churn', y = 'units')                                            "
   ]
  },
  {
   "cell_type": "markdown",
   "id": "ee9f9a7d-ba14-42f7-978f-3db36be45ccb",
   "metadata": {},
   "source": [
    "## Modelagem"
   ]
  },
  {
   "cell_type": "markdown",
   "id": "2b59c02d-c60e-4c77-ae48-417edb5a51d6",
   "metadata": {},
   "source": [
    "### Preprocessamento"
   ]
  },
  {
   "cell_type": "code",
   "execution_count": 76,
   "id": "c2d6f397-bb14-472c-8983-be24f41e37e4",
   "metadata": {},
   "outputs": [],
   "source": [
    "clients_test['birth_year'] = pd.DatetimeIndex(clients_test['birthdate']).year"
   ]
  },
  {
   "cell_type": "code",
   "execution_count": 86,
   "id": "e64fab35-86f6-4cb0-9a43-9b8b8df6c58c",
   "metadata": {},
   "outputs": [],
   "source": [
    "#puxando para clients\n",
    "\n",
    "#Dividindo\n",
    "features = [i for i in clients.columns if i not in ['is_churn', 'client_id', 'birthdate']]\n",
    "X_train = clients[features]\n",
    "y_train = clients['is_churn']\n",
    "X_test = clients_test[features]\n",
    "y_test = clients_test['is_churn']"
   ]
  },
  {
   "cell_type": "code",
   "execution_count": 87,
   "id": "62304278-882b-4514-95f2-3e6d7a3479e9",
   "metadata": {},
   "outputs": [],
   "source": [
    "# Features numericas\n",
    "num_features = clients.select_dtypes(include=['int', 'float']).columns.tolist()\n",
    "num_features = [i for i in num_features if i not in ['is_churn']]\n",
    "\n",
    "# Features categoricas\n",
    "cat_features = clients.select_dtypes(exclude=['int', 'float']).columns.tolist()\n",
    "cat_features = [i for i in cat_features if i not in ['birthdate', 'client_id', 'is_churn']]"
   ]
  },
  {
   "cell_type": "code",
   "execution_count": 88,
   "id": "b358fa56-07d6-4477-b615-6b5266a595dd",
   "metadata": {},
   "outputs": [
    {
     "name": "stdout",
     "output_type": "stream",
     "text": [
      "['birth_year']\n",
      "['state', 'gender']\n"
     ]
    }
   ],
   "source": [
    "print(num_features)\n",
    "print(cat_features)"
   ]
  },
  {
   "cell_type": "code",
   "execution_count": 89,
   "id": "3d8cd04d-b6af-461a-b896-f8b381a4841d",
   "metadata": {},
   "outputs": [],
   "source": [
    "def preprocessing(X_train, X_test, y_train):\n",
    "\n",
    "  # Categoricals pre-processing (missing imputer)\n",
    "  cat_imputer = SimpleImputer(missing_values=np.nan, strategy='most_frequent')\n",
    "  X_train[cat_features] = cat_imputer.fit_transform(X_train[cat_features])\n",
    "  X_test[cat_features] = cat_imputer.transform(X_test[cat_features])\n",
    "\n",
    "  cat_imputer = SimpleImputer(missing_values=None, strategy='most_frequent')\n",
    "  X_train[cat_features] = cat_imputer.fit_transform(X_train[cat_features])\n",
    "  X_test[cat_features] = cat_imputer.transform(X_test[cat_features])\n",
    "\n",
    "  # Categoricals pre-processing (categorical encoders)\n",
    "  target_encoder = OrdinalEncoder(handle_unknown='use_encoded_value', unknown_value = 99)\n",
    "  X_train[cat_features] = target_encoder.fit_transform(X_train[cat_features])\n",
    "  X_test[cat_features] = target_encoder.transform(X_test[cat_features])\n",
    "\n",
    "  # Numerical pre-processing (missing imputer)\n",
    "  num_imputer = SimpleImputer(missing_values=np.nan, strategy='median')\n",
    "  X_train[num_features] = num_imputer.fit_transform(X_train[num_features])\n",
    "  X_test[num_features] = num_imputer.transform(X_test[num_features])\n",
    "\n",
    "  return X_train, X_test"
   ]
  },
  {
   "cell_type": "code",
   "execution_count": 90,
   "id": "a86013f1-b729-4b7f-8347-4a9d79983c88",
   "metadata": {},
   "outputs": [],
   "source": [
    "X_train, X_test = preprocessing(X_train.copy(), X_test.copy(), y_train.copy())"
   ]
  },
  {
   "cell_type": "code",
   "execution_count": 91,
   "id": "6d4a7e0b-5e34-49c3-9425-bd8b187f61c4",
   "metadata": {},
   "outputs": [
    {
     "data": {
      "text/plain": [
       "LogisticRegression(random_state=42)"
      ]
     },
     "execution_count": 91,
     "metadata": {},
     "output_type": "execute_result"
    }
   ],
   "source": [
    "#Logit\n",
    "logistic_model = LogisticRegression(random_state = 42)\n",
    "logistic_model.fit(X_train, y_train)"
   ]
  },
  {
   "cell_type": "code",
   "execution_count": 92,
   "id": "931ad250-a11b-4f55-86ad-861dba6f52d8",
   "metadata": {},
   "outputs": [
    {
     "name": "stderr",
     "output_type": "stream",
     "text": [
      "C:\\Users\\GUILHE~1\\AppData\\Local\\Temp/ipykernel_37452/3462838484.py:28: RuntimeWarning: invalid value encountered in longlong_scalars\n",
      "  precision = tp / (fp + tp)\n"
     ]
    },
    {
     "data": {
      "text/html": [
       "<div>\n",
       "<style scoped>\n",
       "    .dataframe tbody tr th:only-of-type {\n",
       "        vertical-align: middle;\n",
       "    }\n",
       "\n",
       "    .dataframe tbody tr th {\n",
       "        vertical-align: top;\n",
       "    }\n",
       "\n",
       "    .dataframe thead th {\n",
       "        text-align: right;\n",
       "    }\n",
       "</style>\n",
       "<table border=\"1\" class=\"dataframe\">\n",
       "  <thead>\n",
       "    <tr style=\"text-align: right;\">\n",
       "      <th></th>\n",
       "      <th>tn</th>\n",
       "      <th>fp</th>\n",
       "      <th>fn</th>\n",
       "      <th>tp</th>\n",
       "      <th>accuracy</th>\n",
       "      <th>precision</th>\n",
       "      <th>recall</th>\n",
       "      <th>f1_score</th>\n",
       "    </tr>\n",
       "    <tr>\n",
       "      <th>modelos</th>\n",
       "      <th></th>\n",
       "      <th></th>\n",
       "      <th></th>\n",
       "      <th></th>\n",
       "      <th></th>\n",
       "      <th></th>\n",
       "      <th></th>\n",
       "      <th></th>\n",
       "    </tr>\n",
       "  </thead>\n",
       "  <tbody>\n",
       "    <tr>\n",
       "      <th>Logit</th>\n",
       "      <td>6368.0</td>\n",
       "      <td>0.0</td>\n",
       "      <td>1396.0</td>\n",
       "      <td>0.0</td>\n",
       "      <td>0.820196</td>\n",
       "      <td>NaN</td>\n",
       "      <td>0.0</td>\n",
       "      <td>NaN</td>\n",
       "    </tr>\n",
       "  </tbody>\n",
       "</table>\n",
       "</div>"
      ],
      "text/plain": [
       "             tn   fp      fn   tp  accuracy  precision  recall  f1_score\n",
       "modelos                                                                 \n",
       "Logit    6368.0  0.0  1396.0  0.0  0.820196        NaN     0.0       NaN"
      ]
     },
     "execution_count": 92,
     "metadata": {},
     "output_type": "execute_result"
    }
   ],
   "source": [
    "tabela_resultados = None\n",
    "tabela_resultados = results_table(\n",
    "    'Logit', \n",
    "    tabela_resultados,\n",
    "    y_true=y_test, \n",
    "    y_pred= logistic_model.predict(X_test)\n",
    ")\n",
    "tabela_resultados"
   ]
  },
  {
   "cell_type": "code",
   "execution_count": 93,
   "id": "804073a3-ef30-4325-abad-9c62babd70ac",
   "metadata": {},
   "outputs": [
    {
     "data": {
      "text/plain": [
       "RandomForestClassifier(n_estimators=8, random_state=42)"
      ]
     },
     "execution_count": 93,
     "metadata": {},
     "output_type": "execute_result"
    }
   ],
   "source": [
    "#RandomForest\n",
    "rf = RandomForestClassifier(random_state = 42, n_estimators = 8)\n",
    "rf.fit(X_train, y_train)"
   ]
  },
  {
   "cell_type": "code",
   "execution_count": 94,
   "id": "e24e1006-ab1b-4f3a-8987-3c02fac1f81e",
   "metadata": {},
   "outputs": [
    {
     "name": "stderr",
     "output_type": "stream",
     "text": [
      "C:\\Users\\GUILHE~1\\AppData\\Local\\Temp/ipykernel_37452/3462838484.py:71: FutureWarning: The frame.append method is deprecated and will be removed from pandas in a future version. Use pandas.concat instead.\n",
      "  return existing_table.append(metrics)\n"
     ]
    },
    {
     "data": {
      "text/html": [
       "<div>\n",
       "<style scoped>\n",
       "    .dataframe tbody tr th:only-of-type {\n",
       "        vertical-align: middle;\n",
       "    }\n",
       "\n",
       "    .dataframe tbody tr th {\n",
       "        vertical-align: top;\n",
       "    }\n",
       "\n",
       "    .dataframe thead th {\n",
       "        text-align: right;\n",
       "    }\n",
       "</style>\n",
       "<table border=\"1\" class=\"dataframe\">\n",
       "  <thead>\n",
       "    <tr style=\"text-align: right;\">\n",
       "      <th></th>\n",
       "      <th>tn</th>\n",
       "      <th>fp</th>\n",
       "      <th>fn</th>\n",
       "      <th>tp</th>\n",
       "      <th>accuracy</th>\n",
       "      <th>precision</th>\n",
       "      <th>recall</th>\n",
       "      <th>f1_score</th>\n",
       "    </tr>\n",
       "    <tr>\n",
       "      <th>modelos</th>\n",
       "      <th></th>\n",
       "      <th></th>\n",
       "      <th></th>\n",
       "      <th></th>\n",
       "      <th></th>\n",
       "      <th></th>\n",
       "      <th></th>\n",
       "      <th></th>\n",
       "    </tr>\n",
       "  </thead>\n",
       "  <tbody>\n",
       "    <tr>\n",
       "      <th>Logit</th>\n",
       "      <td>6368.0</td>\n",
       "      <td>0.0</td>\n",
       "      <td>1396.0</td>\n",
       "      <td>0.0</td>\n",
       "      <td>0.820196</td>\n",
       "      <td>NaN</td>\n",
       "      <td>0.000000</td>\n",
       "      <td>NaN</td>\n",
       "    </tr>\n",
       "    <tr>\n",
       "      <th>RF</th>\n",
       "      <td>6246.0</td>\n",
       "      <td>122.0</td>\n",
       "      <td>1357.0</td>\n",
       "      <td>39.0</td>\n",
       "      <td>0.809505</td>\n",
       "      <td>0.242236</td>\n",
       "      <td>0.027937</td>\n",
       "      <td>0.050096</td>\n",
       "    </tr>\n",
       "  </tbody>\n",
       "</table>\n",
       "</div>"
      ],
      "text/plain": [
       "             tn     fp      fn    tp  accuracy  precision    recall  f1_score\n",
       "modelos                                                                      \n",
       "Logit    6368.0    0.0  1396.0   0.0  0.820196        NaN  0.000000       NaN\n",
       "RF       6246.0  122.0  1357.0  39.0  0.809505   0.242236  0.027937  0.050096"
      ]
     },
     "execution_count": 94,
     "metadata": {},
     "output_type": "execute_result"
    }
   ],
   "source": [
    "tabela_resultados = results_table(\n",
    "    'RF', \n",
    "    tabela_resultados,\n",
    "    y_true=y_test, \n",
    "    y_pred= rf.predict(X_test)\n",
    ")\n",
    "tabela_resultados"
   ]
  },
  {
   "cell_type": "code",
   "execution_count": 106,
   "id": "c155a4ce-72bd-4bf1-9372-a3a3b1a1bdeb",
   "metadata": {},
   "outputs": [],
   "source": [
    "models = [('lr',LogisticRegression(random_state = 42)),('rf', RandomForestClassifier(random_state = 42, n_estimators = 8))]\n"
   ]
  },
  {
   "cell_type": "code",
   "execution_count": 107,
   "id": "f09d9afd-3acd-4682-9170-0871f68c277b",
   "metadata": {},
   "outputs": [],
   "source": [
    "model = StackingClassifier(estimators = models)"
   ]
  },
  {
   "cell_type": "code",
   "execution_count": 108,
   "id": "7c4af934-9039-4206-8331-c34a4495afde",
   "metadata": {},
   "outputs": [
    {
     "data": {
      "text/plain": [
       "StackingClassifier(estimators=[('lr', LogisticRegression(random_state=42)),\n",
       "                               ('rf',\n",
       "                                RandomForestClassifier(n_estimators=8,\n",
       "                                                       random_state=42))])"
      ]
     },
     "execution_count": 108,
     "metadata": {},
     "output_type": "execute_result"
    }
   ],
   "source": [
    "model.fit(X_train,y_train)"
   ]
  },
  {
   "cell_type": "code",
   "execution_count": 109,
   "id": "73d9e0a5-4de7-4020-837e-b268dd570040",
   "metadata": {},
   "outputs": [
    {
     "name": "stderr",
     "output_type": "stream",
     "text": [
      "C:\\Users\\GUILHE~1\\AppData\\Local\\Temp/ipykernel_37452/3462838484.py:28: RuntimeWarning: invalid value encountered in longlong_scalars\n",
      "  precision = tp / (fp + tp)\n",
      "C:\\Users\\GUILHE~1\\AppData\\Local\\Temp/ipykernel_37452/3462838484.py:71: FutureWarning: The frame.append method is deprecated and will be removed from pandas in a future version. Use pandas.concat instead.\n",
      "  return existing_table.append(metrics)\n"
     ]
    },
    {
     "data": {
      "text/html": [
       "<div>\n",
       "<style scoped>\n",
       "    .dataframe tbody tr th:only-of-type {\n",
       "        vertical-align: middle;\n",
       "    }\n",
       "\n",
       "    .dataframe tbody tr th {\n",
       "        vertical-align: top;\n",
       "    }\n",
       "\n",
       "    .dataframe thead th {\n",
       "        text-align: right;\n",
       "    }\n",
       "</style>\n",
       "<table border=\"1\" class=\"dataframe\">\n",
       "  <thead>\n",
       "    <tr style=\"text-align: right;\">\n",
       "      <th></th>\n",
       "      <th>tn</th>\n",
       "      <th>fp</th>\n",
       "      <th>fn</th>\n",
       "      <th>tp</th>\n",
       "      <th>accuracy</th>\n",
       "      <th>precision</th>\n",
       "      <th>recall</th>\n",
       "      <th>f1_score</th>\n",
       "    </tr>\n",
       "    <tr>\n",
       "      <th>modelos</th>\n",
       "      <th></th>\n",
       "      <th></th>\n",
       "      <th></th>\n",
       "      <th></th>\n",
       "      <th></th>\n",
       "      <th></th>\n",
       "      <th></th>\n",
       "      <th></th>\n",
       "    </tr>\n",
       "  </thead>\n",
       "  <tbody>\n",
       "    <tr>\n",
       "      <th>Logit</th>\n",
       "      <td>6368.0</td>\n",
       "      <td>0.0</td>\n",
       "      <td>1396.0</td>\n",
       "      <td>0.0</td>\n",
       "      <td>0.820196</td>\n",
       "      <td>NaN</td>\n",
       "      <td>0.000000</td>\n",
       "      <td>NaN</td>\n",
       "    </tr>\n",
       "    <tr>\n",
       "      <th>RF</th>\n",
       "      <td>6246.0</td>\n",
       "      <td>122.0</td>\n",
       "      <td>1357.0</td>\n",
       "      <td>39.0</td>\n",
       "      <td>0.809505</td>\n",
       "      <td>0.242236</td>\n",
       "      <td>0.027937</td>\n",
       "      <td>0.050096</td>\n",
       "    </tr>\n",
       "    <tr>\n",
       "      <th>stack</th>\n",
       "      <td>6368.0</td>\n",
       "      <td>0.0</td>\n",
       "      <td>1396.0</td>\n",
       "      <td>0.0</td>\n",
       "      <td>0.820196</td>\n",
       "      <td>NaN</td>\n",
       "      <td>0.000000</td>\n",
       "      <td>NaN</td>\n",
       "    </tr>\n",
       "  </tbody>\n",
       "</table>\n",
       "</div>"
      ],
      "text/plain": [
       "             tn     fp      fn    tp  accuracy  precision    recall  f1_score\n",
       "modelos                                                                      \n",
       "Logit    6368.0    0.0  1396.0   0.0  0.820196        NaN  0.000000       NaN\n",
       "RF       6246.0  122.0  1357.0  39.0  0.809505   0.242236  0.027937  0.050096\n",
       "stack    6368.0    0.0  1396.0   0.0  0.820196        NaN  0.000000       NaN"
      ]
     },
     "execution_count": 109,
     "metadata": {},
     "output_type": "execute_result"
    }
   ],
   "source": [
    "tabela_resultados = results_table(\n",
    "    'stack', \n",
    "    tabela_resultados,\n",
    "    y_true=y_test, \n",
    "    y_pred= model.predict(X_test)\n",
    ")\n",
    "tabela_resultados"
   ]
  },
  {
   "cell_type": "code",
   "execution_count": null,
   "id": "35506e56-aa96-4c08-bccf-8b71ea7bb3fd",
   "metadata": {},
   "outputs": [],
   "source": []
  }
 ],
 "metadata": {
  "kernelspec": {
   "display_name": "Python 3 (ipykernel)",
   "language": "python",
   "name": "python3"
  },
  "language_info": {
   "codemirror_mode": {
    "name": "ipython",
    "version": 3
   },
   "file_extension": ".py",
   "mimetype": "text/x-python",
   "name": "python",
   "nbconvert_exporter": "python",
   "pygments_lexer": "ipython3",
   "version": "3.8.12"
  }
 },
 "nbformat": 4,
 "nbformat_minor": 5
}
